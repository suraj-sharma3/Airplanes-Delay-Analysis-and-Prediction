{
 "cells": [
  {
   "cell_type": "code",
   "execution_count": 1,
   "metadata": {},
   "outputs": [
    {
     "name": "stderr",
     "output_type": "stream",
     "text": [
      "C:\\Users\\OMOLP094\\AppData\\Local\\Temp\\ipykernel_14240\\1527074041.py:6: DtypeWarning: Columns (7,8) have mixed types. Specify dtype option on import or set low_memory=False.\n",
      "  df = pd.read_csv(file_path)\n"
     ]
    }
   ],
   "source": [
    "import pandas as pd\n",
    "\n",
    "# Load the dataset into a DataFrame\n",
    "file_path = 'C:\\\\Users\\\\OMOLP094\\\\Desktop\\\\Research Projects\\\\Airplanes Project\\\\flights.csv'  # Replace with the actual file path\n",
    "# Assuming the dataset is in a CSV file format, adjust the read function for other formats\n",
    "df = pd.read_csv(file_path)\n",
    "\n",
    "# List of columns to keep\n",
    "desired_columns = [\n",
    "    \"SCHEDULED_DEPARTURE\", \"DEPARTURE_TIME\", \"DEPARTURE_DELAY\",\n",
    "    \"TAXI_OUT\", \"WHEELS_OFF\", \"SCHEDULED_TIME\", \"ELAPSED_TIME\",\n",
    "    \"AIR_TIME\", \"DISTANCE\", \"WHEELS_ON\", \"TAXI_IN\", \"SCHEDULED_ARRIVAL\",\n",
    "    \"ARRIVAL_TIME\", \"ARRIVAL_DELAY\", \"DIVERTED\", \"CANCELLED\"\n",
    "]\n",
    "\n",
    "# Selecting only the desired columns\n",
    "selected_data = df[desired_columns]\n"
   ]
  },
  {
   "cell_type": "code",
   "execution_count": 2,
   "metadata": {},
   "outputs": [
    {
     "data": {
      "text/html": [
       "<div>\n",
       "<style scoped>\n",
       "    .dataframe tbody tr th:only-of-type {\n",
       "        vertical-align: middle;\n",
       "    }\n",
       "\n",
       "    .dataframe tbody tr th {\n",
       "        vertical-align: top;\n",
       "    }\n",
       "\n",
       "    .dataframe thead th {\n",
       "        text-align: right;\n",
       "    }\n",
       "</style>\n",
       "<table border=\"1\" class=\"dataframe\">\n",
       "  <thead>\n",
       "    <tr style=\"text-align: right;\">\n",
       "      <th></th>\n",
       "      <th>SCHEDULED_DEPARTURE</th>\n",
       "      <th>DEPARTURE_TIME</th>\n",
       "      <th>DEPARTURE_DELAY</th>\n",
       "      <th>TAXI_OUT</th>\n",
       "      <th>WHEELS_OFF</th>\n",
       "      <th>SCHEDULED_TIME</th>\n",
       "      <th>ELAPSED_TIME</th>\n",
       "      <th>AIR_TIME</th>\n",
       "      <th>DISTANCE</th>\n",
       "      <th>WHEELS_ON</th>\n",
       "      <th>TAXI_IN</th>\n",
       "      <th>SCHEDULED_ARRIVAL</th>\n",
       "      <th>ARRIVAL_TIME</th>\n",
       "      <th>ARRIVAL_DELAY</th>\n",
       "      <th>DIVERTED</th>\n",
       "      <th>CANCELLED</th>\n",
       "    </tr>\n",
       "  </thead>\n",
       "  <tbody>\n",
       "    <tr>\n",
       "      <th>0</th>\n",
       "      <td>5</td>\n",
       "      <td>2354.0</td>\n",
       "      <td>-11.0</td>\n",
       "      <td>21.0</td>\n",
       "      <td>15.0</td>\n",
       "      <td>205.0</td>\n",
       "      <td>194.0</td>\n",
       "      <td>169.0</td>\n",
       "      <td>1448</td>\n",
       "      <td>404.0</td>\n",
       "      <td>4.0</td>\n",
       "      <td>430</td>\n",
       "      <td>408.0</td>\n",
       "      <td>-22.0</td>\n",
       "      <td>0</td>\n",
       "      <td>0</td>\n",
       "    </tr>\n",
       "    <tr>\n",
       "      <th>1</th>\n",
       "      <td>10</td>\n",
       "      <td>2.0</td>\n",
       "      <td>-8.0</td>\n",
       "      <td>12.0</td>\n",
       "      <td>14.0</td>\n",
       "      <td>280.0</td>\n",
       "      <td>279.0</td>\n",
       "      <td>263.0</td>\n",
       "      <td>2330</td>\n",
       "      <td>737.0</td>\n",
       "      <td>4.0</td>\n",
       "      <td>750</td>\n",
       "      <td>741.0</td>\n",
       "      <td>-9.0</td>\n",
       "      <td>0</td>\n",
       "      <td>0</td>\n",
       "    </tr>\n",
       "    <tr>\n",
       "      <th>2</th>\n",
       "      <td>20</td>\n",
       "      <td>18.0</td>\n",
       "      <td>-2.0</td>\n",
       "      <td>16.0</td>\n",
       "      <td>34.0</td>\n",
       "      <td>286.0</td>\n",
       "      <td>293.0</td>\n",
       "      <td>266.0</td>\n",
       "      <td>2296</td>\n",
       "      <td>800.0</td>\n",
       "      <td>11.0</td>\n",
       "      <td>806</td>\n",
       "      <td>811.0</td>\n",
       "      <td>5.0</td>\n",
       "      <td>0</td>\n",
       "      <td>0</td>\n",
       "    </tr>\n",
       "    <tr>\n",
       "      <th>3</th>\n",
       "      <td>20</td>\n",
       "      <td>15.0</td>\n",
       "      <td>-5.0</td>\n",
       "      <td>15.0</td>\n",
       "      <td>30.0</td>\n",
       "      <td>285.0</td>\n",
       "      <td>281.0</td>\n",
       "      <td>258.0</td>\n",
       "      <td>2342</td>\n",
       "      <td>748.0</td>\n",
       "      <td>8.0</td>\n",
       "      <td>805</td>\n",
       "      <td>756.0</td>\n",
       "      <td>-9.0</td>\n",
       "      <td>0</td>\n",
       "      <td>0</td>\n",
       "    </tr>\n",
       "    <tr>\n",
       "      <th>4</th>\n",
       "      <td>25</td>\n",
       "      <td>24.0</td>\n",
       "      <td>-1.0</td>\n",
       "      <td>11.0</td>\n",
       "      <td>35.0</td>\n",
       "      <td>235.0</td>\n",
       "      <td>215.0</td>\n",
       "      <td>199.0</td>\n",
       "      <td>1448</td>\n",
       "      <td>254.0</td>\n",
       "      <td>5.0</td>\n",
       "      <td>320</td>\n",
       "      <td>259.0</td>\n",
       "      <td>-21.0</td>\n",
       "      <td>0</td>\n",
       "      <td>0</td>\n",
       "    </tr>\n",
       "  </tbody>\n",
       "</table>\n",
       "</div>"
      ],
      "text/plain": [
       "   SCHEDULED_DEPARTURE  DEPARTURE_TIME  DEPARTURE_DELAY  TAXI_OUT  WHEELS_OFF  \\\n",
       "0                    5          2354.0            -11.0      21.0        15.0   \n",
       "1                   10             2.0             -8.0      12.0        14.0   \n",
       "2                   20            18.0             -2.0      16.0        34.0   \n",
       "3                   20            15.0             -5.0      15.0        30.0   \n",
       "4                   25            24.0             -1.0      11.0        35.0   \n",
       "\n",
       "   SCHEDULED_TIME  ELAPSED_TIME  AIR_TIME  DISTANCE  WHEELS_ON  TAXI_IN  \\\n",
       "0           205.0         194.0     169.0      1448      404.0      4.0   \n",
       "1           280.0         279.0     263.0      2330      737.0      4.0   \n",
       "2           286.0         293.0     266.0      2296      800.0     11.0   \n",
       "3           285.0         281.0     258.0      2342      748.0      8.0   \n",
       "4           235.0         215.0     199.0      1448      254.0      5.0   \n",
       "\n",
       "   SCHEDULED_ARRIVAL  ARRIVAL_TIME  ARRIVAL_DELAY  DIVERTED  CANCELLED  \n",
       "0                430         408.0          -22.0         0          0  \n",
       "1                750         741.0           -9.0         0          0  \n",
       "2                806         811.0            5.0         0          0  \n",
       "3                805         756.0           -9.0         0          0  \n",
       "4                320         259.0          -21.0         0          0  "
      ]
     },
     "execution_count": 2,
     "metadata": {},
     "output_type": "execute_result"
    }
   ],
   "source": [
    "selected_data.head()"
   ]
  },
  {
   "cell_type": "code",
   "execution_count": 4,
   "metadata": {},
   "outputs": [
    {
     "data": {
      "text/plain": [
       "(5819079, 16)"
      ]
     },
     "execution_count": 4,
     "metadata": {},
     "output_type": "execute_result"
    }
   ],
   "source": [
    "selected_data.shape"
   ]
  },
  {
   "cell_type": "code",
   "execution_count": 5,
   "metadata": {},
   "outputs": [],
   "source": [
    "# Count the number of NAN and different values in each column\n",
    "def count_NA_levels(data):\n",
    "    for i in data.columns:\n",
    "        x = data[i].unique()\n",
    "        y = data[i]\n",
    "        count_na = data.shape[0] - (y.dropna(axis=0, how='any')).shape[0]\n",
    "        if count_na > 0:\n",
    "            print(i + '({} NaN): '.format(count_na) + str(len(x)))\n",
    "        else:\n",
    "            print(i + '(no NaN): ' + str(len(x)))"
   ]
  },
  {
   "cell_type": "code",
   "execution_count": 6,
   "metadata": {},
   "outputs": [
    {
     "name": "stdout",
     "output_type": "stream",
     "text": [
      "SCHEDULED_DEPARTURE(no NaN): 1321\n",
      "DEPARTURE_TIME(86153 NaN): 1441\n",
      "DEPARTURE_DELAY(86153 NaN): 1218\n",
      "TAXI_OUT(89047 NaN): 185\n",
      "WHEELS_OFF(89047 NaN): 1441\n",
      "SCHEDULED_TIME(6 NaN): 551\n",
      "ELAPSED_TIME(105071 NaN): 713\n",
      "AIR_TIME(105071 NaN): 676\n",
      "DISTANCE(no NaN): 1363\n",
      "WHEELS_ON(92513 NaN): 1441\n",
      "TAXI_IN(92513 NaN): 186\n",
      "SCHEDULED_ARRIVAL(no NaN): 1435\n",
      "ARRIVAL_TIME(92513 NaN): 1441\n",
      "ARRIVAL_DELAY(105071 NaN): 1241\n",
      "DIVERTED(no NaN): 2\n",
      "CANCELLED(no NaN): 2\n"
     ]
    }
   ],
   "source": [
    "count_NA_levels(selected_data)"
   ]
  },
  {
   "cell_type": "code",
   "execution_count": 8,
   "metadata": {},
   "outputs": [],
   "source": [
    "selected_data_clean = selected_data.dropna(axis=0, how='any', \n",
    "                                  subset=['ARRIVAL_DELAY', 'DEPARTURE_DELAY'])"
   ]
  },
  {
   "cell_type": "code",
   "execution_count": 9,
   "metadata": {},
   "outputs": [
    {
     "data": {
      "text/plain": [
       "(5714008, 16)"
      ]
     },
     "execution_count": 9,
     "metadata": {},
     "output_type": "execute_result"
    }
   ],
   "source": [
    "selected_data_clean.shape"
   ]
  },
  {
   "cell_type": "code",
   "execution_count": 10,
   "metadata": {},
   "outputs": [
    {
     "name": "stdout",
     "output_type": "stream",
     "text": [
      "First few rows of the dataset:\n",
      "   SCHEDULED_DEPARTURE  DEPARTURE_TIME  DEPARTURE_DELAY  TAXI_OUT  WHEELS_OFF  \\\n",
      "0                    5          2354.0            -11.0      21.0        15.0   \n",
      "1                   10             2.0             -8.0      12.0        14.0   \n",
      "2                   20            18.0             -2.0      16.0        34.0   \n",
      "3                   20            15.0             -5.0      15.0        30.0   \n",
      "4                   25            24.0             -1.0      11.0        35.0   \n",
      "\n",
      "   SCHEDULED_TIME  ELAPSED_TIME  AIR_TIME  DISTANCE  WHEELS_ON  TAXI_IN  \\\n",
      "0           205.0         194.0     169.0      1448      404.0      4.0   \n",
      "1           280.0         279.0     263.0      2330      737.0      4.0   \n",
      "2           286.0         293.0     266.0      2296      800.0     11.0   \n",
      "3           285.0         281.0     258.0      2342      748.0      8.0   \n",
      "4           235.0         215.0     199.0      1448      254.0      5.0   \n",
      "\n",
      "   SCHEDULED_ARRIVAL  ARRIVAL_TIME  ARRIVAL_DELAY  DIVERTED  CANCELLED  \n",
      "0                430         408.0          -22.0         0          0  \n",
      "1                750         741.0           -9.0         0          0  \n",
      "2                806         811.0            5.0         0          0  \n",
      "3                805         756.0           -9.0         0          0  \n",
      "4                320         259.0          -21.0         0          0  \n"
     ]
    }
   ],
   "source": [
    "# Display the first few rows to understand the structure\n",
    "print(\"First few rows of the dataset:\")\n",
    "print(selected_data_clean.head())"
   ]
  },
  {
   "cell_type": "code",
   "execution_count": 11,
   "metadata": {},
   "outputs": [
    {
     "name": "stdout",
     "output_type": "stream",
     "text": [
      "\n",
      "Dataset Information:\n",
      "<class 'pandas.core.frame.DataFrame'>\n",
      "Index: 5714008 entries, 0 to 5819078\n",
      "Data columns (total 16 columns):\n",
      " #   Column               Dtype  \n",
      "---  ------               -----  \n",
      " 0   SCHEDULED_DEPARTURE  int64  \n",
      " 1   DEPARTURE_TIME       float64\n",
      " 2   DEPARTURE_DELAY      float64\n",
      " 3   TAXI_OUT             float64\n",
      " 4   WHEELS_OFF           float64\n",
      " 5   SCHEDULED_TIME       float64\n",
      " 6   ELAPSED_TIME         float64\n",
      " 7   AIR_TIME             float64\n",
      " 8   DISTANCE             int64  \n",
      " 9   WHEELS_ON            float64\n",
      " 10  TAXI_IN              float64\n",
      " 11  SCHEDULED_ARRIVAL    int64  \n",
      " 12  ARRIVAL_TIME         float64\n",
      " 13  ARRIVAL_DELAY        float64\n",
      " 14  DIVERTED             int64  \n",
      " 15  CANCELLED            int64  \n",
      "dtypes: float64(11), int64(5)\n",
      "memory usage: 741.1 MB\n",
      "None\n"
     ]
    }
   ],
   "source": [
    "# Get information about the dataset\n",
    "print(\"\\nDataset Information:\")\n",
    "print(selected_data_clean.info())"
   ]
  },
  {
   "cell_type": "code",
   "execution_count": 12,
   "metadata": {},
   "outputs": [
    {
     "name": "stdout",
     "output_type": "stream",
     "text": [
      "\n",
      "Summary Statistics:\n",
      "       SCHEDULED_DEPARTURE  DEPARTURE_TIME  DEPARTURE_DELAY      TAXI_OUT  \\\n",
      "count         5.714008e+06    5.714008e+06     5.714008e+06  5.714008e+06   \n",
      "mean          1.328907e+03    1.335066e+03     9.294842e+00  1.606550e+01   \n",
      "std           4.835251e+02    4.964198e+02     3.688972e+01  8.882449e+00   \n",
      "min           1.000000e+00    1.000000e+00    -8.200000e+01  1.000000e+00   \n",
      "25%           9.160000e+02    9.210000e+02    -5.000000e+00  1.100000e+01   \n",
      "50%           1.325000e+03    1.330000e+03    -2.000000e+00  1.400000e+01   \n",
      "75%           1.730000e+03    1.740000e+03     7.000000e+00  1.900000e+01   \n",
      "max           2.359000e+03    2.400000e+03     1.988000e+03  2.250000e+02   \n",
      "\n",
      "         WHEELS_OFF  SCHEDULED_TIME  ELAPSED_TIME      AIR_TIME      DISTANCE  \\\n",
      "count  5.714008e+06    5.714008e+06  5.714008e+06  5.714008e+06  5.714008e+06   \n",
      "mean   1.357099e+03    1.418940e+02  1.370062e+02  1.135116e+02  8.244569e+02   \n",
      "std    4.980237e+02    7.531400e+01  7.421107e+01  7.223082e+01  6.086620e+02   \n",
      "min    1.000000e+00    1.800000e+01  1.400000e+01  7.000000e+00  3.100000e+01   \n",
      "25%    9.350000e+02    8.500000e+01  8.200000e+01  6.000000e+01  3.730000e+02   \n",
      "50%    1.343000e+03    1.230000e+02  1.180000e+02  9.400000e+01  6.500000e+02   \n",
      "75%    1.754000e+03    1.740000e+02  1.680000e+02  1.440000e+02  1.065000e+03   \n",
      "max    2.400000e+03    7.180000e+02  7.660000e+02  6.900000e+02  4.983000e+03   \n",
      "\n",
      "          WHEELS_ON       TAXI_IN  SCHEDULED_ARRIVAL  ARRIVAL_TIME  \\\n",
      "count  5.714008e+06  5.714008e+06       5.714008e+06  5.714008e+06   \n",
      "mean   1.471319e+03  7.429063e+00       1.493187e+03  1.476373e+03   \n",
      "std    5.218682e+02  5.618951e+00       5.069011e+02  5.259730e+02   \n",
      "min    1.000000e+00  1.000000e+00       1.000000e+00  1.000000e+00   \n",
      "25%    1.054000e+03  4.000000e+00       1.110000e+03  1.058000e+03   \n",
      "50%    1.508000e+03  6.000000e+00       1.520000e+03  1.512000e+03   \n",
      "75%    1.911000e+03  9.000000e+00       1.917000e+03  1.916000e+03   \n",
      "max    2.400000e+03  2.480000e+02       2.400000e+03  2.400000e+03   \n",
      "\n",
      "       ARRIVAL_DELAY   DIVERTED  CANCELLED  \n",
      "count   5.714008e+06  5714008.0  5714008.0  \n",
      "mean    4.407057e+00        0.0        0.0  \n",
      "std     3.927130e+01        0.0        0.0  \n",
      "min    -8.700000e+01        0.0        0.0  \n",
      "25%    -1.300000e+01        0.0        0.0  \n",
      "50%    -5.000000e+00        0.0        0.0  \n",
      "75%     8.000000e+00        0.0        0.0  \n",
      "max     1.971000e+03        0.0        0.0  \n"
     ]
    }
   ],
   "source": [
    "# Summary statistics for numerical columns\n",
    "print(\"\\nSummary Statistics:\")\n",
    "print(selected_data_clean.describe())"
   ]
  },
  {
   "cell_type": "code",
   "execution_count": 13,
   "metadata": {},
   "outputs": [
    {
     "name": "stdout",
     "output_type": "stream",
     "text": [
      "\n",
      "Missing Values:\n",
      "SCHEDULED_DEPARTURE    0\n",
      "DEPARTURE_TIME         0\n",
      "DEPARTURE_DELAY        0\n",
      "TAXI_OUT               0\n",
      "WHEELS_OFF             0\n",
      "SCHEDULED_TIME         0\n",
      "ELAPSED_TIME           0\n",
      "AIR_TIME               0\n",
      "DISTANCE               0\n",
      "WHEELS_ON              0\n",
      "TAXI_IN                0\n",
      "SCHEDULED_ARRIVAL      0\n",
      "ARRIVAL_TIME           0\n",
      "ARRIVAL_DELAY          0\n",
      "DIVERTED               0\n",
      "CANCELLED              0\n",
      "dtype: int64\n"
     ]
    }
   ],
   "source": [
    "# Check for missing values\n",
    "print(\"\\nMissing Values:\")\n",
    "print(selected_data_clean.isnull().sum())"
   ]
  },
  {
   "cell_type": "code",
   "execution_count": 14,
   "metadata": {},
   "outputs": [
    {
     "name": "stdout",
     "output_type": "stream",
     "text": [
      "Column names in the dataset:\n",
      "['SCHEDULED_DEPARTURE', 'DEPARTURE_TIME', 'DEPARTURE_DELAY', 'TAXI_OUT', 'WHEELS_OFF', 'SCHEDULED_TIME', 'ELAPSED_TIME', 'AIR_TIME', 'DISTANCE', 'WHEELS_ON', 'TAXI_IN', 'SCHEDULED_ARRIVAL', 'ARRIVAL_TIME', 'ARRIVAL_DELAY', 'DIVERTED', 'CANCELLED']\n"
     ]
    }
   ],
   "source": [
    "column_names = selected_data_clean.columns.tolist()\n",
    "\n",
    "print(\"Column names in the dataset:\")\n",
    "print(column_names)\n"
   ]
  },
  {
   "cell_type": "markdown",
   "metadata": {},
   "source": [
    "### These columns could serve as potential features in predicting arrival delays based on their potential impact or relevance to flight schedules and operations.\n",
    "\n",
    "- DEPARTURE_DELAY\n",
    "- DISTANCE\n",
    "- SCHEDULED_DEPARTURE\n",
    "- SCHEDULED_ARRIVAL\n",
    "- TAXI_OUT\n",
    "- TAXI_IN\n",
    "- AIR_TIME\n",
    "- WHEELS_OFF\n",
    "- WHEELS_ON\n",
    "- DIVERTED\n",
    "- CANCELLED\n"
   ]
  },
  {
   "cell_type": "code",
   "execution_count": 15,
   "metadata": {},
   "outputs": [
    {
     "name": "stdout",
     "output_type": "stream",
     "text": [
      "   DEPARTURE_DELAY  DISTANCE  SCHEDULED_DEPARTURE  SCHEDULED_ARRIVAL  \\\n",
      "0            -11.0      1448                    5                430   \n",
      "1             -8.0      2330                   10                750   \n",
      "2             -2.0      2296                   20                806   \n",
      "3             -5.0      2342                   20                805   \n",
      "4             -1.0      1448                   25                320   \n",
      "\n",
      "   TAXI_OUT  TAXI_IN  AIR_TIME  WHEELS_OFF  WHEELS_ON  DIVERTED  CANCELLED  \\\n",
      "0      21.0      4.0     169.0        15.0      404.0         0          0   \n",
      "1      12.0      4.0     263.0        14.0      737.0         0          0   \n",
      "2      16.0     11.0     266.0        34.0      800.0         0          0   \n",
      "3      15.0      8.0     258.0        30.0      748.0         0          0   \n",
      "4      11.0      5.0     199.0        35.0      254.0         0          0   \n",
      "\n",
      "   ARRIVAL_DELAY  \n",
      "0          -22.0  \n",
      "1           -9.0  \n",
      "2            5.0  \n",
      "3           -9.0  \n",
      "4          -21.0  \n"
     ]
    }
   ],
   "source": [
    "# List of selected features and target variable\n",
    "selected_features = ['DEPARTURE_DELAY', 'DISTANCE', 'SCHEDULED_DEPARTURE', 'SCHEDULED_ARRIVAL', 'TAXI_OUT', 'TAXI_IN', 'AIR_TIME', 'WHEELS_OFF', 'WHEELS_ON', 'DIVERTED', 'CANCELLED']\n",
    "\n",
    "# Creating a new dataframe with selected features and target variable\n",
    "new_df = selected_data_clean[selected_features + ['ARRIVAL_DELAY']]\n",
    "\n",
    "# Displaying the first few rows of the new dataframe\n",
    "print(new_df.head())\n"
   ]
  },
  {
   "cell_type": "code",
   "execution_count": 17,
   "metadata": {},
   "outputs": [
    {
     "name": "stdout",
     "output_type": "stream",
     "text": [
      "X_train shape: (4571206, 11)\n",
      "X_test shape: (1142802, 11)\n",
      "y_train shape: (4571206, 1)\n",
      "y_test shape: (1142802, 1)\n"
     ]
    }
   ],
   "source": [
    "from sklearn.model_selection import train_test_split\n",
    "\n",
    "# Features (X) and target variable (y)\n",
    "X = new_df.drop(columns=['ARRIVAL_DELAY'])  # Features\n",
    "y = new_df[['ARRIVAL_DELAY']]  # Target variable as a DataFrame\n",
    "\n",
    "# Splitting the data into training and testing sets (80% train, 20% test)\n",
    "X_train, X_test, y_train, y_test = train_test_split(X, y, test_size=0.2, random_state=42)\n",
    "\n",
    "# Displaying the shapes of the split datasets\n",
    "print(\"X_train shape:\", X_train.shape)\n",
    "print(\"X_test shape:\", X_test.shape)\n",
    "print(\"y_train shape:\", y_train.shape)\n",
    "print(\"y_test shape:\", y_test.shape)\n"
   ]
  },
  {
   "cell_type": "code",
   "execution_count": 18,
   "metadata": {},
   "outputs": [
    {
     "name": "stdout",
     "output_type": "stream",
     "text": [
      "Mean Squared Error (MSE): 102.71293802425967\n",
      "R-squared (R2): 0.9330879342658436\n",
      "Mean Absolute Error (MAE): 7.33654211315696\n",
      "Root Mean Squared Error (RMSE): 10.134739169029446\n",
      "Explained Variance Score: 0.9330947817824777\n",
      "Median Absolute Error (MedAE): 5.0\n",
      "Adjusted R-squared: 0.933087290199372\n"
     ]
    }
   ],
   "source": [
    "from sklearn.tree import DecisionTreeRegressor\n",
    "from sklearn.metrics import mean_absolute_error, mean_squared_error, r2_score, explained_variance_score, median_absolute_error\n",
    "\n",
    "# Initialize the Decision Tree Regressor\n",
    "model = DecisionTreeRegressor(random_state=42)\n",
    "\n",
    "# Train the model\n",
    "model.fit(X_train, y_train)\n",
    "\n",
    "# Predict on the test set\n",
    "y_pred = model.predict(X_test)\n",
    "\n",
    "# Evaluate the model\n",
    "mse = mean_squared_error(y_test, y_pred)\n",
    "r2 = r2_score(y_test, y_pred)\n",
    "mae = mean_absolute_error(y_test, y_pred)\n",
    "rmse = mean_squared_error(y_test, y_pred, squared=False)  # Squared=False gives RMSE\n",
    "evs = explained_variance_score(y_test, y_pred)\n",
    "medae = median_absolute_error(y_test, y_pred)\n",
    "r2_adj = 1 - ((1 - r2_score(y_test, y_pred)) * (len(y_test) - 1) / (len(y_test) - X_test.shape[1] - 1))\n",
    "\n",
    "print(\"Mean Squared Error (MSE):\", mse)\n",
    "print(\"R-squared (R2):\", r2)\n",
    "print(\"Mean Absolute Error (MAE):\", mae)\n",
    "print(\"Root Mean Squared Error (RMSE):\", rmse)\n",
    "print(\"Explained Variance Score:\", evs)\n",
    "print(\"Median Absolute Error (MedAE):\", medae)\n",
    "print(\"Adjusted R-squared:\", r2_adj)"
   ]
  },
  {
   "cell_type": "code",
   "execution_count": 30,
   "metadata": {},
   "outputs": [
    {
     "data": {
      "image/png": "[encoded data removed]",
      "text/plain": [
       "<Figure size 1000x600 with 1 Axes>"
      ]
     },
     "metadata": {},
     "output_type": "display_data"
    }
   ],
   "source": [
    "import matplotlib.pyplot as plt\n",
    "\n",
    "metrics_names = ['MSE', 'R2', 'MAE', 'RMSE', 'Explained Variance', 'MedAE', 'Adjusted R2']\n",
    "metrics_values = [mse, r2, mae, rmse, evs, medae, r2_adj]\n",
    "\n",
    "# Plotting the metrics\n",
    "plt.figure(figsize=(10, 6))\n",
    "plt.bar(metrics_names, metrics_values, color='skyblue')\n",
    "plt.xlabel('Metrics')\n",
    "plt.ylabel('Values')\n",
    "plt.title('Model Performance Metrics')\n",
    "plt.xticks(rotation=45)\n",
    "plt.tight_layout()\n",
    "plt.show()"
   ]
  },
  {
   "cell_type": "code",
   "execution_count": 26,
   "metadata": {},
   "outputs": [
    {
     "data": {
      "image/png": "[encoded data removed]",
      "text/plain": [
       "<Figure size 1000x600 with 1 Axes>"
      ]
     },
     "metadata": {},
     "output_type": "display_data"
    }
   ],
   "source": [
    "feature_importance = model.feature_importances_\n",
    "feature_names = ['DEPARTURE_DELAY', 'DISTANCE', 'SCHEDULED_DEPARTURE', 'SCHEDULED_ARRIVAL',\n",
    "                 'TAXI_OUT', 'TAXI_IN', 'AIR_TIME', 'WHEELS_OFF', 'WHEELS_ON', 'DIVERTED', 'CANCELLED']\n",
    "\n",
    "# Plotting feature importance\n",
    "plt.figure(figsize=(10, 6))\n",
    "plt.barh(feature_names, feature_importance, color='skyblue')\n",
    "plt.xlabel('Feature Importance')\n",
    "plt.title('Decision Tree Regressor - Feature Importance')\n",
    "plt.tight_layout()\n",
    "plt.show()"
   ]
  },
  {
   "cell_type": "code",
   "execution_count": 19,
   "metadata": {},
   "outputs": [
    {
     "data": {
      "text/plain": [
       "['C:\\\\Users\\\\OMOLP094\\\\Desktop\\\\Research Projects\\\\Airplanes Project\\\\arrival_delay_prediction_model.joblib']"
      ]
     },
     "execution_count": 19,
     "metadata": {},
     "output_type": "execute_result"
    }
   ],
   "source": [
    "from joblib import dump\n",
    "\n",
    "model_filename = 'C:\\\\Users\\\\OMOLP094\\\\Desktop\\\\Research Projects\\\\Airplanes Project\\\\arrival_delay_prediction_model.joblib'\n",
    "dump(model, model_filename)"
   ]
  },
  {
   "cell_type": "code",
   "execution_count": 24,
   "metadata": {},
   "outputs": [
    {
     "name": "stdout",
     "output_type": "stream",
     "text": [
      "[-8. 17. 15.]\n"
     ]
    }
   ],
   "source": [
    "import pandas as pd\n",
    "from joblib import load\n",
    "\n",
    "# Creating a sample DataFrame similar to the features used in the model\n",
    "# Replace these values with your actual data for prediction\n",
    "data = {\n",
    "    'DEPARTURE_DELAY': [-5.0, 15.0, 10.0],\n",
    "    'DISTANCE': [1000, 1200, 800],\n",
    "    'SCHEDULED_DEPARTURE': [1200, 1400, 900],\n",
    "    'SCHEDULED_ARRIVAL': [1700, 1900, 1040],\n",
    "    'TAXI_OUT': [20.0, 18.0, 22.0],\n",
    "    'TAXI_IN': [5.0, 7.0, 5.0],\n",
    "    'AIR_TIME': [150.0, 170.0, 120.0],\n",
    "    'WHEELS_OFF': [1235.0, 1433.0, 932.0],\n",
    "    'WHEELS_ON': [1630.0, 1845.0, 1220.0],\n",
    "    'DIVERTED': [0, 1, 0],\n",
    "    'CANCELLED': [0, 1, 0]\n",
    "}\n",
    "\n",
    "# Creating a DataFrame from the provided data\n",
    "X_new = pd.DataFrame(data)\n",
    "\n",
    "# Load the saved model\n",
    "loaded_model = load('C:\\\\Users\\\\OMOLP094\\\\Desktop\\\\Research Projects\\\\Airplanes Project\\\\arrival_delay_prediction_model.joblib')\n",
    "\n",
    "# Predict arrival delays using the loaded model\n",
    "predicted_arrival_delays = loaded_model.predict(X_new)\n",
    "\n",
    "print(predicted_arrival_delays)"
   ]
  },
  {
   "cell_type": "markdown",
   "metadata": {},
   "source": [
    "The values -8, 17, and 15 for arrival delay represent the difference in minutes between the scheduled arrival time and the actual arrival time of a flight.\n",
    "\n",
    "A negative value (-8) suggests that the flight arrived earlier than scheduled by 8 minutes.\n",
    "A positive value (17, 15) indicates that the flight arrived later than the scheduled time by 17 and 15 minutes, respectively.\n",
    "\n",
    "These values measure the punctuality or delay of a flight compared to its scheduled arrival time."
   ]
  }
 ],
 "metadata": {
  "kernelspec": {
   "display_name": "Python 3",
   "language": "python",
   "name": "python3"
  },
  "language_info": {
   "codemirror_mode": {
    "name": "ipython",
    "version": 3
   },
   "file_extension": ".py",
   "mimetype": "text/x-python",
   "name": "python",
   "nbconvert_exporter": "python",
   "pygments_lexer": "ipython3",
   "version": "3.11.3"
  }
 },
 "nbformat": 4,
 "nbformat_minor": 2
}
